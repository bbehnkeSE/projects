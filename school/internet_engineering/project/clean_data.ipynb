{
 "cells": [
  {
   "cell_type": "code",
   "execution_count": 1,
   "metadata": {},
   "outputs": [],
   "source": [
    "import pandas as pd\n",
    "import numpy as np\n",
    "import os\n",
    "import pickle\n",
    "\n",
    "from sklearn.feature_selection import chi2\n",
    "from sklearn.feature_selection import SelectKBest\n",
    "from sklearn.model_selection   import train_test_split\n",
    "from sklearn.metrics           import accuracy_score\n",
    "from sklearn.metrics           import classification_report\n",
    "from sklearn.metrics           import confusion_matrix\n",
    "from sklearn.preprocessing     import LabelEncoder\n",
    "from sklearn.preprocessing     import StandardScaler\n",
    "from sklearn.tree              import ExtraTreeClassifier\n",
    "from sklearn.tree              import DecisionTreeClassifier\n",
    "from sklearn.linear_model      import LogisticRegression\n",
    "from sklearn.naive_bayes       import GaussianNB"
   ]
  },
  {
   "cell_type": "code",
   "execution_count": 2,
   "metadata": {},
   "outputs": [
    {
     "name": "stderr",
     "output_type": "stream",
     "text": [
      "C:\\Users\\Brian\\AppData\\Local\\Temp\\ipykernel_5064\\2680276053.py:1: DtypeWarning: Columns (1,4,6,7,9,10,11,12,13,14,15,16,17,18,19,20,21,22,23,24,25,26,27,28,29,30,31,32,33,34,35,36,37,38,39,40,41,42,43,44,45,46,47,48,49,50,51,52,53,54,55,56,57,58,59,60,61,62,63,64,65,66,67,68,69,70,71,72,73,74,75,76,77,78,79,80,81,82,83,84,85,86,87) have mixed types. Specify dtype option on import or set low_memory=False.\n",
      "  df = pd.read_csv('data/CICDDoS2019_Consolidated.csv')\n"
     ]
    },
    {
     "data": {
      "text/plain": [
       "(488935, 89)"
      ]
     },
     "execution_count": 2,
     "metadata": {},
     "output_type": "execute_result"
    }
   ],
   "source": [
    "df = pd.read_csv('data/CICDDoS2019_Consolidated.csv')\n",
    "df.shape"
   ]
  },
  {
   "cell_type": "code",
   "execution_count": 3,
   "metadata": {},
   "outputs": [
    {
     "data": {
      "text/plain": [
       "0"
      ]
     },
     "execution_count": 3,
     "metadata": {},
     "output_type": "execute_result"
    }
   ],
   "source": [
    "df.dropna(axis=0, inplace=True)\n",
    "df.isnull().sum().sum()"
   ]
  },
  {
   "cell_type": "code",
   "execution_count": 4,
   "metadata": {},
   "outputs": [
    {
     "data": {
      "text/plain": [
       "MSSQL      139587\n",
       "Syn        114076\n",
       "UDP         94715\n",
       "NetBIOS     87933\n",
       "LDAP        46774\n",
       "Portmap      4444\n",
       "BENIGN       1351\n",
       "UDPLag         49\n",
       "Name:  Label, dtype: int64"
      ]
     },
     "execution_count": 4,
     "metadata": {},
     "output_type": "execute_result"
    }
   ],
   "source": [
    "df[' Label'].value_counts()"
   ]
  },
  {
   "cell_type": "code",
   "execution_count": 5,
   "metadata": {},
   "outputs": [
    {
     "data": {
      "text/plain": [
       "Index(['Unnamed: 0.1', 'Unnamed: 0', 'Flow ID', ' Source IP', ' Source Port',\n",
       "       ' Destination IP', ' Destination Port', ' Protocol', ' Timestamp',\n",
       "       ' Flow Duration', ' Total Fwd Packets', ' Total Backward Packets',\n",
       "       'Total Length of Fwd Packets', ' Total Length of Bwd Packets',\n",
       "       ' Fwd Packet Length Max', ' Fwd Packet Length Min',\n",
       "       ' Fwd Packet Length Mean', ' Fwd Packet Length Std',\n",
       "       'Bwd Packet Length Max', ' Bwd Packet Length Min',\n",
       "       ' Bwd Packet Length Mean', ' Bwd Packet Length Std', 'Flow Bytes/s',\n",
       "       ' Flow Packets/s', ' Flow IAT Mean', ' Flow IAT Std', ' Flow IAT Max',\n",
       "       ' Flow IAT Min', 'Fwd IAT Total', ' Fwd IAT Mean', ' Fwd IAT Std',\n",
       "       ' Fwd IAT Max', ' Fwd IAT Min', 'Bwd IAT Total', ' Bwd IAT Mean',\n",
       "       ' Bwd IAT Std', ' Bwd IAT Max', ' Bwd IAT Min', 'Fwd PSH Flags',\n",
       "       ' Bwd PSH Flags', ' Fwd URG Flags', ' Bwd URG Flags',\n",
       "       ' Fwd Header Length', ' Bwd Header Length', 'Fwd Packets/s',\n",
       "       ' Bwd Packets/s', ' Min Packet Length', ' Max Packet Length',\n",
       "       ' Packet Length Mean', ' Packet Length Std', ' Packet Length Variance',\n",
       "       'FIN Flag Count', ' SYN Flag Count', ' RST Flag Count',\n",
       "       ' PSH Flag Count', ' ACK Flag Count', ' URG Flag Count',\n",
       "       ' CWE Flag Count', ' ECE Flag Count', ' Down/Up Ratio',\n",
       "       ' Average Packet Size', ' Avg Fwd Segment Size',\n",
       "       ' Avg Bwd Segment Size', ' Fwd Header Length.1', 'Fwd Avg Bytes/Bulk',\n",
       "       ' Fwd Avg Packets/Bulk', ' Fwd Avg Bulk Rate', ' Bwd Avg Bytes/Bulk',\n",
       "       ' Bwd Avg Packets/Bulk', 'Bwd Avg Bulk Rate', 'Subflow Fwd Packets',\n",
       "       ' Subflow Fwd Bytes', ' Subflow Bwd Packets', ' Subflow Bwd Bytes',\n",
       "       'Init_Win_bytes_forward', ' Init_Win_bytes_backward',\n",
       "       ' act_data_pkt_fwd', ' min_seg_size_forward', 'Active Mean',\n",
       "       ' Active Std', ' Active Max', ' Active Min', 'Idle Mean', ' Idle Std',\n",
       "       ' Idle Max', ' Idle Min', 'SimillarHTTP', ' Inbound', ' Label'],\n",
       "      dtype='object')"
      ]
     },
     "execution_count": 5,
     "metadata": {},
     "output_type": "execute_result"
    }
   ],
   "source": [
    "df.columns"
   ]
  },
  {
   "cell_type": "code",
   "execution_count": 6,
   "metadata": {},
   "outputs": [
    {
     "data": {
      "text/plain": [
       "Index(['Flow ID', ' Source IP', ' Source Port', ' Destination IP',\n",
       "       ' Destination Port', ' Protocol', ' Timestamp', ' Flow Duration',\n",
       "       ' Total Fwd Packets', ' Total Backward Packets',\n",
       "       'Total Length of Fwd Packets', ' Total Length of Bwd Packets',\n",
       "       ' Fwd Packet Length Max', ' Fwd Packet Length Min',\n",
       "       ' Fwd Packet Length Mean', ' Fwd Packet Length Std',\n",
       "       'Bwd Packet Length Max', ' Bwd Packet Length Min',\n",
       "       ' Bwd Packet Length Mean', ' Bwd Packet Length Std', 'Flow Bytes/s',\n",
       "       ' Flow Packets/s', ' Flow IAT Mean', ' Flow IAT Std', ' Flow IAT Max',\n",
       "       ' Flow IAT Min', 'Fwd IAT Total', ' Fwd IAT Mean', ' Fwd IAT Std',\n",
       "       ' Fwd IAT Max', ' Fwd IAT Min', 'Bwd IAT Total', ' Bwd IAT Mean',\n",
       "       ' Bwd IAT Std', ' Bwd IAT Max', ' Bwd IAT Min', 'Fwd PSH Flags',\n",
       "       ' Bwd PSH Flags', ' Fwd URG Flags', ' Bwd URG Flags',\n",
       "       ' Fwd Header Length', ' Bwd Header Length', 'Fwd Packets/s',\n",
       "       ' Bwd Packets/s', ' Min Packet Length', ' Max Packet Length',\n",
       "       ' Packet Length Mean', ' Packet Length Std', ' Packet Length Variance',\n",
       "       'FIN Flag Count', ' SYN Flag Count', ' RST Flag Count',\n",
       "       ' PSH Flag Count', ' ACK Flag Count', ' URG Flag Count',\n",
       "       ' CWE Flag Count', ' ECE Flag Count', ' Down/Up Ratio',\n",
       "       ' Average Packet Size', ' Avg Fwd Segment Size',\n",
       "       ' Avg Bwd Segment Size', ' Fwd Header Length.1', 'Fwd Avg Bytes/Bulk',\n",
       "       ' Fwd Avg Packets/Bulk', ' Fwd Avg Bulk Rate', ' Bwd Avg Bytes/Bulk',\n",
       "       ' Bwd Avg Packets/Bulk', 'Bwd Avg Bulk Rate', 'Subflow Fwd Packets',\n",
       "       ' Subflow Fwd Bytes', ' Subflow Bwd Packets', ' Subflow Bwd Bytes',\n",
       "       'Init_Win_bytes_forward', ' Init_Win_bytes_backward',\n",
       "       ' act_data_pkt_fwd', ' min_seg_size_forward', 'Active Mean',\n",
       "       ' Active Std', ' Active Max', ' Active Min', 'Idle Mean', ' Idle Std',\n",
       "       ' Idle Max', ' Idle Min', 'SimillarHTTP', ' Inbound', ' Label'],\n",
       "      dtype='object')"
      ]
     },
     "execution_count": 6,
     "metadata": {},
     "output_type": "execute_result"
    }
   ],
   "source": [
    "df.drop(['Unnamed: 0', 'Unnamed: 0.1'], axis=1, inplace=True)\n",
    "df.columns"
   ]
  },
  {
   "cell_type": "code",
   "execution_count": 7,
   "metadata": {},
   "outputs": [
    {
     "data": {
      "text/plain": [
       "array(['LDAP', 'NetBIOS', 'BENIGN', 'MSSQL', 'Portmap', 'Syn', 'UDP',\n",
       "       'UDPLag'], dtype=object)"
      ]
     },
     "execution_count": 7,
     "metadata": {},
     "output_type": "execute_result"
    }
   ],
   "source": [
    "df_x = df.drop([' Label', 'SimillarHTTP'], axis=1)\n",
    "df_y = df[' Label']\n",
    "\n",
    "df_y.unique()"
   ]
  },
  {
   "cell_type": "code",
   "execution_count": 8,
   "metadata": {},
   "outputs": [],
   "source": [
    "le = LabelEncoder()\n",
    "df_y_trans = le.fit_transform(df_y)\n",
    "\n",
    "le_fid = LabelEncoder()\n",
    "le_fid.fit(df_x['Flow ID'])\n",
    "df_x['Flow ID'] = le_fid.fit_transform(df_x['Flow ID'])\n",
    "\n",
    "le_sip = LabelEncoder()\n",
    "le_sip.fit(df_x[' Source IP'])\n",
    "df_x[' Source IP'] = le_sip.fit_transform(df_x[' Source IP'])\n",
    "\n",
    "le_dip = LabelEncoder()\n",
    "le_dip.fit(df_x[' Destination IP'])\n",
    "df_x[' Destination IP'] = le_dip.fit_transform(df_x[' Destination IP'])\n",
    "\n",
    "le_t = LabelEncoder()\n",
    "le_t.fit(df_x[' Timestamp'])\n",
    "df_x[' Timestamp'] = le_t.fit_transform(df_x[' Timestamp'])"
   ]
  },
  {
   "cell_type": "code",
   "execution_count": 9,
   "metadata": {},
   "outputs": [
    {
     "data": {
      "text/html": [
       "<div>\n",
       "<style scoped>\n",
       "    .dataframe tbody tr th:only-of-type {\n",
       "        vertical-align: middle;\n",
       "    }\n",
       "\n",
       "    .dataframe tbody tr th {\n",
       "        vertical-align: top;\n",
       "    }\n",
       "\n",
       "    .dataframe thead th {\n",
       "        text-align: right;\n",
       "    }\n",
       "</style>\n",
       "<table border=\"1\" class=\"dataframe\">\n",
       "  <thead>\n",
       "    <tr style=\"text-align: right;\">\n",
       "      <th></th>\n",
       "      <th>Flow ID</th>\n",
       "      <th>Source IP</th>\n",
       "      <th>Source Port</th>\n",
       "      <th>Destination IP</th>\n",
       "      <th>Destination Port</th>\n",
       "      <th>Protocol</th>\n",
       "      <th>Timestamp</th>\n",
       "      <th>Flow Duration</th>\n",
       "      <th>Total Fwd Packets</th>\n",
       "      <th>Total Backward Packets</th>\n",
       "      <th>...</th>\n",
       "      <th>min_seg_size_forward</th>\n",
       "      <th>Active Mean</th>\n",
       "      <th>Active Std</th>\n",
       "      <th>Active Max</th>\n",
       "      <th>Active Min</th>\n",
       "      <th>Idle Mean</th>\n",
       "      <th>Idle Std</th>\n",
       "      <th>Idle Max</th>\n",
       "      <th>Idle Min</th>\n",
       "      <th>Inbound</th>\n",
       "    </tr>\n",
       "  </thead>\n",
       "  <tbody>\n",
       "    <tr>\n",
       "      <th>0</th>\n",
       "      <td>223278</td>\n",
       "      <td>27</td>\n",
       "      <td>520</td>\n",
       "      <td>146</td>\n",
       "      <td>22993</td>\n",
       "      <td>17</td>\n",
       "      <td>111250</td>\n",
       "      <td>1</td>\n",
       "      <td>2</td>\n",
       "      <td>0</td>\n",
       "      <td>...</td>\n",
       "      <td>32</td>\n",
       "      <td>0.0</td>\n",
       "      <td>0.0</td>\n",
       "      <td>0.0</td>\n",
       "      <td>0.0</td>\n",
       "      <td>0.0</td>\n",
       "      <td>0.0</td>\n",
       "      <td>0.0</td>\n",
       "      <td>0.0</td>\n",
       "      <td>1</td>\n",
       "    </tr>\n",
       "    <tr>\n",
       "      <th>1</th>\n",
       "      <td>409387</td>\n",
       "      <td>27</td>\n",
       "      <td>755</td>\n",
       "      <td>146</td>\n",
       "      <td>3377</td>\n",
       "      <td>17</td>\n",
       "      <td>122409</td>\n",
       "      <td>1</td>\n",
       "      <td>2</td>\n",
       "      <td>0</td>\n",
       "      <td>...</td>\n",
       "      <td>0</td>\n",
       "      <td>0.0</td>\n",
       "      <td>0.0</td>\n",
       "      <td>0.0</td>\n",
       "      <td>0.0</td>\n",
       "      <td>0.0</td>\n",
       "      <td>0.0</td>\n",
       "      <td>0.0</td>\n",
       "      <td>0.0</td>\n",
       "      <td>1</td>\n",
       "    </tr>\n",
       "    <tr>\n",
       "      <th>2</th>\n",
       "      <td>412964</td>\n",
       "      <td>27</td>\n",
       "      <td>768</td>\n",
       "      <td>146</td>\n",
       "      <td>33027</td>\n",
       "      <td>17</td>\n",
       "      <td>130751</td>\n",
       "      <td>1</td>\n",
       "      <td>2</td>\n",
       "      <td>0</td>\n",
       "      <td>...</td>\n",
       "      <td>0</td>\n",
       "      <td>0.0</td>\n",
       "      <td>0.0</td>\n",
       "      <td>0.0</td>\n",
       "      <td>0.0</td>\n",
       "      <td>0.0</td>\n",
       "      <td>0.0</td>\n",
       "      <td>0.0</td>\n",
       "      <td>0.0</td>\n",
       "      <td>1</td>\n",
       "    </tr>\n",
       "    <tr>\n",
       "      <th>3</th>\n",
       "      <td>394443</td>\n",
       "      <td>27</td>\n",
       "      <td>700</td>\n",
       "      <td>146</td>\n",
       "      <td>60924</td>\n",
       "      <td>17</td>\n",
       "      <td>112057</td>\n",
       "      <td>2</td>\n",
       "      <td>2</td>\n",
       "      <td>0</td>\n",
       "      <td>...</td>\n",
       "      <td>0</td>\n",
       "      <td>0.0</td>\n",
       "      <td>0.0</td>\n",
       "      <td>0.0</td>\n",
       "      <td>0.0</td>\n",
       "      <td>0.0</td>\n",
       "      <td>0.0</td>\n",
       "      <td>0.0</td>\n",
       "      <td>0.0</td>\n",
       "      <td>1</td>\n",
       "    </tr>\n",
       "    <tr>\n",
       "      <th>4</th>\n",
       "      <td>316746</td>\n",
       "      <td>27</td>\n",
       "      <td>615</td>\n",
       "      <td>146</td>\n",
       "      <td>23073</td>\n",
       "      <td>17</td>\n",
       "      <td>135028</td>\n",
       "      <td>1</td>\n",
       "      <td>2</td>\n",
       "      <td>0</td>\n",
       "      <td>...</td>\n",
       "      <td>8</td>\n",
       "      <td>0.0</td>\n",
       "      <td>0.0</td>\n",
       "      <td>0.0</td>\n",
       "      <td>0.0</td>\n",
       "      <td>0.0</td>\n",
       "      <td>0.0</td>\n",
       "      <td>0.0</td>\n",
       "      <td>0.0</td>\n",
       "      <td>1</td>\n",
       "    </tr>\n",
       "    <tr>\n",
       "      <th>...</th>\n",
       "      <td>...</td>\n",
       "      <td>...</td>\n",
       "      <td>...</td>\n",
       "      <td>...</td>\n",
       "      <td>...</td>\n",
       "      <td>...</td>\n",
       "      <td>...</td>\n",
       "      <td>...</td>\n",
       "      <td>...</td>\n",
       "      <td>...</td>\n",
       "      <td>...</td>\n",
       "      <td>...</td>\n",
       "      <td>...</td>\n",
       "      <td>...</td>\n",
       "      <td>...</td>\n",
       "      <td>...</td>\n",
       "      <td>...</td>\n",
       "      <td>...</td>\n",
       "      <td>...</td>\n",
       "      <td>...</td>\n",
       "      <td>...</td>\n",
       "    </tr>\n",
       "    <tr>\n",
       "      <th>488930</th>\n",
       "      <td>440433</td>\n",
       "      <td>27</td>\n",
       "      <td>8673</td>\n",
       "      <td>146</td>\n",
       "      <td>33165</td>\n",
       "      <td>6</td>\n",
       "      <td>381200</td>\n",
       "      <td>1</td>\n",
       "      <td>2</td>\n",
       "      <td>0</td>\n",
       "      <td>...</td>\n",
       "      <td>20</td>\n",
       "      <td>0.0</td>\n",
       "      <td>0.0</td>\n",
       "      <td>0.0</td>\n",
       "      <td>0.0</td>\n",
       "      <td>0.0</td>\n",
       "      <td>0.0</td>\n",
       "      <td>0.0</td>\n",
       "      <td>0.0</td>\n",
       "      <td>1</td>\n",
       "    </tr>\n",
       "    <tr>\n",
       "      <th>488931</th>\n",
       "      <td>9570</td>\n",
       "      <td>27</td>\n",
       "      <td>11130</td>\n",
       "      <td>146</td>\n",
       "      <td>20694</td>\n",
       "      <td>6</td>\n",
       "      <td>376363</td>\n",
       "      <td>119</td>\n",
       "      <td>2</td>\n",
       "      <td>2</td>\n",
       "      <td>...</td>\n",
       "      <td>20</td>\n",
       "      <td>0.0</td>\n",
       "      <td>0.0</td>\n",
       "      <td>0.0</td>\n",
       "      <td>0.0</td>\n",
       "      <td>0.0</td>\n",
       "      <td>0.0</td>\n",
       "      <td>0.0</td>\n",
       "      <td>0.0</td>\n",
       "      <td>1</td>\n",
       "    </tr>\n",
       "    <tr>\n",
       "      <th>488932</th>\n",
       "      <td>483527</td>\n",
       "      <td>93</td>\n",
       "      <td>54686</td>\n",
       "      <td>226</td>\n",
       "      <td>53</td>\n",
       "      <td>17</td>\n",
       "      <td>373944</td>\n",
       "      <td>20807</td>\n",
       "      <td>2</td>\n",
       "      <td>2</td>\n",
       "      <td>...</td>\n",
       "      <td>20</td>\n",
       "      <td>0.0</td>\n",
       "      <td>0.0</td>\n",
       "      <td>0.0</td>\n",
       "      <td>0.0</td>\n",
       "      <td>0.0</td>\n",
       "      <td>0.0</td>\n",
       "      <td>0.0</td>\n",
       "      <td>0.0</td>\n",
       "      <td>0</td>\n",
       "    </tr>\n",
       "    <tr>\n",
       "      <th>488933</th>\n",
       "      <td>250498</td>\n",
       "      <td>27</td>\n",
       "      <td>54809</td>\n",
       "      <td>146</td>\n",
       "      <td>19261</td>\n",
       "      <td>6</td>\n",
       "      <td>382272</td>\n",
       "      <td>49</td>\n",
       "      <td>2</td>\n",
       "      <td>0</td>\n",
       "      <td>...</td>\n",
       "      <td>20</td>\n",
       "      <td>0.0</td>\n",
       "      <td>0.0</td>\n",
       "      <td>0.0</td>\n",
       "      <td>0.0</td>\n",
       "      <td>0.0</td>\n",
       "      <td>0.0</td>\n",
       "      <td>0.0</td>\n",
       "      <td>0.0</td>\n",
       "      <td>1</td>\n",
       "    </tr>\n",
       "    <tr>\n",
       "      <th>488934</th>\n",
       "      <td>341671</td>\n",
       "      <td>27</td>\n",
       "      <td>62506</td>\n",
       "      <td>146</td>\n",
       "      <td>60637</td>\n",
       "      <td>6</td>\n",
       "      <td>381052</td>\n",
       "      <td>1</td>\n",
       "      <td>2</td>\n",
       "      <td>0</td>\n",
       "      <td>...</td>\n",
       "      <td>20</td>\n",
       "      <td>0.0</td>\n",
       "      <td>0.0</td>\n",
       "      <td>0.0</td>\n",
       "      <td>0.0</td>\n",
       "      <td>0.0</td>\n",
       "      <td>0.0</td>\n",
       "      <td>0.0</td>\n",
       "      <td>0.0</td>\n",
       "      <td>1</td>\n",
       "    </tr>\n",
       "  </tbody>\n",
       "</table>\n",
       "<p>488929 rows × 85 columns</p>\n",
       "</div>"
      ],
      "text/plain": [
       "        Flow ID   Source IP  Source Port   Destination IP  Destination Port  \\\n",
       "0        223278          27          520              146             22993   \n",
       "1        409387          27          755              146              3377   \n",
       "2        412964          27          768              146             33027   \n",
       "3        394443          27          700              146             60924   \n",
       "4        316746          27          615              146             23073   \n",
       "...         ...         ...          ...              ...               ...   \n",
       "488930   440433          27         8673              146             33165   \n",
       "488931     9570          27        11130              146             20694   \n",
       "488932   483527          93        54686              226                53   \n",
       "488933   250498          27        54809              146             19261   \n",
       "488934   341671          27        62506              146             60637   \n",
       "\n",
       "        Protocol   Timestamp  Flow Duration  Total Fwd Packets  \\\n",
       "0             17      111250              1                  2   \n",
       "1             17      122409              1                  2   \n",
       "2             17      130751              1                  2   \n",
       "3             17      112057              2                  2   \n",
       "4             17      135028              1                  2   \n",
       "...          ...         ...            ...                ...   \n",
       "488930         6      381200              1                  2   \n",
       "488931         6      376363            119                  2   \n",
       "488932        17      373944          20807                  2   \n",
       "488933         6      382272             49                  2   \n",
       "488934         6      381052              1                  2   \n",
       "\n",
       "        Total Backward Packets  ...  min_seg_size_forward Active Mean  \\\n",
       "0                            0  ...                    32         0.0   \n",
       "1                            0  ...                     0         0.0   \n",
       "2                            0  ...                     0         0.0   \n",
       "3                            0  ...                     0         0.0   \n",
       "4                            0  ...                     8         0.0   \n",
       "...                        ...  ...                   ...         ...   \n",
       "488930                       0  ...                    20         0.0   \n",
       "488931                       2  ...                    20         0.0   \n",
       "488932                       2  ...                    20         0.0   \n",
       "488933                       0  ...                    20         0.0   \n",
       "488934                       0  ...                    20         0.0   \n",
       "\n",
       "        Active Std  Active Max  Active Min Idle Mean  Idle Std  Idle Max  \\\n",
       "0              0.0         0.0         0.0       0.0       0.0       0.0   \n",
       "1              0.0         0.0         0.0       0.0       0.0       0.0   \n",
       "2              0.0         0.0         0.0       0.0       0.0       0.0   \n",
       "3              0.0         0.0         0.0       0.0       0.0       0.0   \n",
       "4              0.0         0.0         0.0       0.0       0.0       0.0   \n",
       "...            ...         ...         ...       ...       ...       ...   \n",
       "488930         0.0         0.0         0.0       0.0       0.0       0.0   \n",
       "488931         0.0         0.0         0.0       0.0       0.0       0.0   \n",
       "488932         0.0         0.0         0.0       0.0       0.0       0.0   \n",
       "488933         0.0         0.0         0.0       0.0       0.0       0.0   \n",
       "488934         0.0         0.0         0.0       0.0       0.0       0.0   \n",
       "\n",
       "        Idle Min  Inbound  \n",
       "0            0.0        1  \n",
       "1            0.0        1  \n",
       "2            0.0        1  \n",
       "3            0.0        1  \n",
       "4            0.0        1  \n",
       "...          ...      ...  \n",
       "488930       0.0        1  \n",
       "488931       0.0        1  \n",
       "488932       0.0        0  \n",
       "488933       0.0        1  \n",
       "488934       0.0        1  \n",
       "\n",
       "[488929 rows x 85 columns]"
      ]
     },
     "execution_count": 9,
     "metadata": {},
     "output_type": "execute_result"
    }
   ],
   "source": [
    "df_x"
   ]
  },
  {
   "cell_type": "code",
   "execution_count": 10,
   "metadata": {},
   "outputs": [
    {
     "data": {
      "text/html": [
       "<style>#sk-container-id-1 {color: black;background-color: white;}#sk-container-id-1 pre{padding: 0;}#sk-container-id-1 div.sk-toggleable {background-color: white;}#sk-container-id-1 label.sk-toggleable__label {cursor: pointer;display: block;width: 100%;margin-bottom: 0;padding: 0.3em;box-sizing: border-box;text-align: center;}#sk-container-id-1 label.sk-toggleable__label-arrow:before {content: \"▸\";float: left;margin-right: 0.25em;color: #696969;}#sk-container-id-1 label.sk-toggleable__label-arrow:hover:before {color: black;}#sk-container-id-1 div.sk-estimator:hover label.sk-toggleable__label-arrow:before {color: black;}#sk-container-id-1 div.sk-toggleable__content {max-height: 0;max-width: 0;overflow: hidden;text-align: left;background-color: #f0f8ff;}#sk-container-id-1 div.sk-toggleable__content pre {margin: 0.2em;color: black;border-radius: 0.25em;background-color: #f0f8ff;}#sk-container-id-1 input.sk-toggleable__control:checked~div.sk-toggleable__content {max-height: 200px;max-width: 100%;overflow: auto;}#sk-container-id-1 input.sk-toggleable__control:checked~label.sk-toggleable__label-arrow:before {content: \"▾\";}#sk-container-id-1 div.sk-estimator input.sk-toggleable__control:checked~label.sk-toggleable__label {background-color: #d4ebff;}#sk-container-id-1 div.sk-label input.sk-toggleable__control:checked~label.sk-toggleable__label {background-color: #d4ebff;}#sk-container-id-1 input.sk-hidden--visually {border: 0;clip: rect(1px 1px 1px 1px);clip: rect(1px, 1px, 1px, 1px);height: 1px;margin: -1px;overflow: hidden;padding: 0;position: absolute;width: 1px;}#sk-container-id-1 div.sk-estimator {font-family: monospace;background-color: #f0f8ff;border: 1px dotted black;border-radius: 0.25em;box-sizing: border-box;margin-bottom: 0.5em;}#sk-container-id-1 div.sk-estimator:hover {background-color: #d4ebff;}#sk-container-id-1 div.sk-parallel-item::after {content: \"\";width: 100%;border-bottom: 1px solid gray;flex-grow: 1;}#sk-container-id-1 div.sk-label:hover label.sk-toggleable__label {background-color: #d4ebff;}#sk-container-id-1 div.sk-serial::before {content: \"\";position: absolute;border-left: 1px solid gray;box-sizing: border-box;top: 0;bottom: 0;left: 50%;z-index: 0;}#sk-container-id-1 div.sk-serial {display: flex;flex-direction: column;align-items: center;background-color: white;padding-right: 0.2em;padding-left: 0.2em;position: relative;}#sk-container-id-1 div.sk-item {position: relative;z-index: 1;}#sk-container-id-1 div.sk-parallel {display: flex;align-items: stretch;justify-content: center;background-color: white;position: relative;}#sk-container-id-1 div.sk-item::before, #sk-container-id-1 div.sk-parallel-item::before {content: \"\";position: absolute;border-left: 1px solid gray;box-sizing: border-box;top: 0;bottom: 0;left: 50%;z-index: -1;}#sk-container-id-1 div.sk-parallel-item {display: flex;flex-direction: column;z-index: 1;position: relative;background-color: white;}#sk-container-id-1 div.sk-parallel-item:first-child::after {align-self: flex-end;width: 50%;}#sk-container-id-1 div.sk-parallel-item:last-child::after {align-self: flex-start;width: 50%;}#sk-container-id-1 div.sk-parallel-item:only-child::after {width: 0;}#sk-container-id-1 div.sk-dashed-wrapped {border: 1px dashed gray;margin: 0 0.4em 0.5em 0.4em;box-sizing: border-box;padding-bottom: 0.4em;background-color: white;}#sk-container-id-1 div.sk-label label {font-family: monospace;font-weight: bold;display: inline-block;line-height: 1.2em;}#sk-container-id-1 div.sk-label-container {text-align: center;}#sk-container-id-1 div.sk-container {/* jupyter's `normalize.less` sets `[hidden] { display: none; }` but bootstrap.min.css set `[hidden] { display: none !important; }` so we also need the `!important` here to be able to override the default hidden behavior on the sphinx rendered scikit-learn.org. See: https://github.com/scikit-learn/scikit-learn/issues/21755 */display: inline-block !important;position: relative;}#sk-container-id-1 div.sk-text-repr-fallback {display: none;}</style><div id=\"sk-container-id-1\" class=\"sk-top-container\"><div class=\"sk-text-repr-fallback\"><pre>ExtraTreeClassifier(random_state=42)</pre><b>In a Jupyter environment, please rerun this cell to show the HTML representation or trust the notebook. <br />On GitHub, the HTML representation is unable to render, please try loading this page with nbviewer.org.</b></div><div class=\"sk-container\" hidden><div class=\"sk-item\"><div class=\"sk-estimator sk-toggleable\"><input class=\"sk-toggleable__control sk-hidden--visually\" id=\"sk-estimator-id-1\" type=\"checkbox\" checked><label for=\"sk-estimator-id-1\" class=\"sk-toggleable__label sk-toggleable__label-arrow\">ExtraTreeClassifier</label><div class=\"sk-toggleable__content\"><pre>ExtraTreeClassifier(random_state=42)</pre></div></div></div></div></div>"
      ],
      "text/plain": [
       "ExtraTreeClassifier(random_state=42)"
      ]
     },
     "execution_count": 10,
     "metadata": {},
     "output_type": "execute_result"
    }
   ],
   "source": [
    "model = ExtraTreeClassifier(random_state=42)\n",
    "model.fit(df_x, df_y_trans)"
   ]
  },
  {
   "cell_type": "code",
   "execution_count": 11,
   "metadata": {},
   "outputs": [
    {
     "data": {
      "text/plain": [
       "<AxesSubplot: title={'center': 'STD Dataset Feature Selection using ExtraTreeClassifier'}>"
      ]
     },
     "execution_count": 11,
     "metadata": {},
     "output_type": "execute_result"
    },
    {
     "data": {
      "image/png": "[encoded data removed]",
      "text/plain": [
       "<Figure size 640x480 with 1 Axes>"
      ]
     },
     "metadata": {},
     "output_type": "display_data"
    }
   ],
   "source": [
    "feature_importance_std = pd.Series(model.feature_importances_, index=df_x.columns)\n",
    "feature_importance_std.nlargest(20).plot(kind='bar', title='STD Dataset Feature Selection using ExtraTreeClassifier')"
   ]
  },
  {
   "cell_type": "code",
   "execution_count": 12,
   "metadata": {},
   "outputs": [
    {
     "data": {
      "text/html": [
       "<div>\n",
       "<style scoped>\n",
       "    .dataframe tbody tr th:only-of-type {\n",
       "        vertical-align: middle;\n",
       "    }\n",
       "\n",
       "    .dataframe tbody tr th {\n",
       "        vertical-align: top;\n",
       "    }\n",
       "\n",
       "    .dataframe thead th {\n",
       "        text-align: right;\n",
       "    }\n",
       "</style>\n",
       "<table border=\"1\" class=\"dataframe\">\n",
       "  <thead>\n",
       "    <tr style=\"text-align: right;\">\n",
       "      <th></th>\n",
       "      <th>Average Packet Size</th>\n",
       "      <th>ACK Flag Count</th>\n",
       "      <th>Fwd Packet Length Max</th>\n",
       "      <th>Max Packet Length</th>\n",
       "      <th>Fwd Packet Length Min</th>\n",
       "      <th>Source Port</th>\n",
       "      <th>Timestamp</th>\n",
       "      <th>Fwd IAT Mean</th>\n",
       "      <th>Bwd IAT Mean</th>\n",
       "      <th>Flow ID</th>\n",
       "      <th>Packet Length Mean</th>\n",
       "      <th>Fwd Header Length</th>\n",
       "      <th>Min Packet Length</th>\n",
       "      <th>Avg Fwd Segment Size</th>\n",
       "      <th>Subflow Fwd Bytes</th>\n",
       "      <th>Flow Bytes/s</th>\n",
       "      <th>Protocol</th>\n",
       "      <th>Fwd Header Length.1</th>\n",
       "      <th>Destination Port</th>\n",
       "      <th>Fwd Packet Length Mean</th>\n",
       "    </tr>\n",
       "  </thead>\n",
       "  <tbody>\n",
       "    <tr>\n",
       "      <th>0</th>\n",
       "      <td>2208.0</td>\n",
       "      <td>0</td>\n",
       "      <td>1472.0</td>\n",
       "      <td>1472.0</td>\n",
       "      <td>1472.0</td>\n",
       "      <td>520</td>\n",
       "      <td>111250</td>\n",
       "      <td>1.0</td>\n",
       "      <td>0.0</td>\n",
       "      <td>223278</td>\n",
       "      <td>1472.0</td>\n",
       "      <td>64</td>\n",
       "      <td>1472.0</td>\n",
       "      <td>1472.0</td>\n",
       "      <td>2944</td>\n",
       "      <td>2944000000.0</td>\n",
       "      <td>17</td>\n",
       "      <td>64</td>\n",
       "      <td>22993</td>\n",
       "      <td>1472.0</td>\n",
       "    </tr>\n",
       "    <tr>\n",
       "      <th>1</th>\n",
       "      <td>2208.0</td>\n",
       "      <td>0</td>\n",
       "      <td>1472.0</td>\n",
       "      <td>1472.0</td>\n",
       "      <td>1472.0</td>\n",
       "      <td>755</td>\n",
       "      <td>122409</td>\n",
       "      <td>1.0</td>\n",
       "      <td>0.0</td>\n",
       "      <td>409387</td>\n",
       "      <td>1472.0</td>\n",
       "      <td>0</td>\n",
       "      <td>1472.0</td>\n",
       "      <td>1472.0</td>\n",
       "      <td>2944</td>\n",
       "      <td>2944000000.0</td>\n",
       "      <td>17</td>\n",
       "      <td>0</td>\n",
       "      <td>3377</td>\n",
       "      <td>1472.0</td>\n",
       "    </tr>\n",
       "    <tr>\n",
       "      <th>2</th>\n",
       "      <td>2208.0</td>\n",
       "      <td>0</td>\n",
       "      <td>1472.0</td>\n",
       "      <td>1472.0</td>\n",
       "      <td>1472.0</td>\n",
       "      <td>768</td>\n",
       "      <td>130751</td>\n",
       "      <td>1.0</td>\n",
       "      <td>0.0</td>\n",
       "      <td>412964</td>\n",
       "      <td>1472.0</td>\n",
       "      <td>0</td>\n",
       "      <td>1472.0</td>\n",
       "      <td>1472.0</td>\n",
       "      <td>2944</td>\n",
       "      <td>2944000000.0</td>\n",
       "      <td>17</td>\n",
       "      <td>0</td>\n",
       "      <td>33027</td>\n",
       "      <td>1472.0</td>\n",
       "    </tr>\n",
       "    <tr>\n",
       "      <th>3</th>\n",
       "      <td>2208.0</td>\n",
       "      <td>0</td>\n",
       "      <td>1472.0</td>\n",
       "      <td>1472.0</td>\n",
       "      <td>1472.0</td>\n",
       "      <td>700</td>\n",
       "      <td>112057</td>\n",
       "      <td>2.0</td>\n",
       "      <td>0.0</td>\n",
       "      <td>394443</td>\n",
       "      <td>1472.0</td>\n",
       "      <td>0</td>\n",
       "      <td>1472.0</td>\n",
       "      <td>1472.0</td>\n",
       "      <td>2944</td>\n",
       "      <td>1472000000.0</td>\n",
       "      <td>17</td>\n",
       "      <td>0</td>\n",
       "      <td>60924</td>\n",
       "      <td>1472.0</td>\n",
       "    </tr>\n",
       "    <tr>\n",
       "      <th>4</th>\n",
       "      <td>2208.0</td>\n",
       "      <td>0</td>\n",
       "      <td>1472.0</td>\n",
       "      <td>1472.0</td>\n",
       "      <td>1472.0</td>\n",
       "      <td>615</td>\n",
       "      <td>135028</td>\n",
       "      <td>1.0</td>\n",
       "      <td>0.0</td>\n",
       "      <td>316746</td>\n",
       "      <td>1472.0</td>\n",
       "      <td>16</td>\n",
       "      <td>1472.0</td>\n",
       "      <td>1472.0</td>\n",
       "      <td>2944</td>\n",
       "      <td>2944000000.0</td>\n",
       "      <td>17</td>\n",
       "      <td>16</td>\n",
       "      <td>23073</td>\n",
       "      <td>1472.0</td>\n",
       "    </tr>\n",
       "    <tr>\n",
       "      <th>...</th>\n",
       "      <td>...</td>\n",
       "      <td>...</td>\n",
       "      <td>...</td>\n",
       "      <td>...</td>\n",
       "      <td>...</td>\n",
       "      <td>...</td>\n",
       "      <td>...</td>\n",
       "      <td>...</td>\n",
       "      <td>...</td>\n",
       "      <td>...</td>\n",
       "      <td>...</td>\n",
       "      <td>...</td>\n",
       "      <td>...</td>\n",
       "      <td>...</td>\n",
       "      <td>...</td>\n",
       "      <td>...</td>\n",
       "      <td>...</td>\n",
       "      <td>...</td>\n",
       "      <td>...</td>\n",
       "      <td>...</td>\n",
       "    </tr>\n",
       "    <tr>\n",
       "      <th>488930</th>\n",
       "      <td>9.0</td>\n",
       "      <td>1</td>\n",
       "      <td>6.0</td>\n",
       "      <td>6.0</td>\n",
       "      <td>6.0</td>\n",
       "      <td>8673</td>\n",
       "      <td>381200</td>\n",
       "      <td>1.0</td>\n",
       "      <td>0.0</td>\n",
       "      <td>440433</td>\n",
       "      <td>6.0</td>\n",
       "      <td>40</td>\n",
       "      <td>6.0</td>\n",
       "      <td>6.0</td>\n",
       "      <td>12</td>\n",
       "      <td>12000000.0</td>\n",
       "      <td>6</td>\n",
       "      <td>40</td>\n",
       "      <td>33165</td>\n",
       "      <td>6.0</td>\n",
       "    </tr>\n",
       "    <tr>\n",
       "      <th>488931</th>\n",
       "      <td>7.5</td>\n",
       "      <td>1</td>\n",
       "      <td>6.0</td>\n",
       "      <td>6.0</td>\n",
       "      <td>6.0</td>\n",
       "      <td>11130</td>\n",
       "      <td>376363</td>\n",
       "      <td>1.0</td>\n",
       "      <td>1.0</td>\n",
       "      <td>9570</td>\n",
       "      <td>6.0</td>\n",
       "      <td>40</td>\n",
       "      <td>6.0</td>\n",
       "      <td>6.0</td>\n",
       "      <td>12</td>\n",
       "      <td>201680.672269</td>\n",
       "      <td>6</td>\n",
       "      <td>40</td>\n",
       "      <td>20694</td>\n",
       "      <td>6.0</td>\n",
       "    </tr>\n",
       "    <tr>\n",
       "      <th>488932</th>\n",
       "      <td>62.75</td>\n",
       "      <td>0</td>\n",
       "      <td>31.0</td>\n",
       "      <td>79.0</td>\n",
       "      <td>31.0</td>\n",
       "      <td>54686</td>\n",
       "      <td>373944</td>\n",
       "      <td>3.0</td>\n",
       "      <td>3.0</td>\n",
       "      <td>483527</td>\n",
       "      <td>50.2</td>\n",
       "      <td>40</td>\n",
       "      <td>31.0</td>\n",
       "      <td>31.0</td>\n",
       "      <td>62</td>\n",
       "      <td>10573.364733</td>\n",
       "      <td>17</td>\n",
       "      <td>40</td>\n",
       "      <td>53</td>\n",
       "      <td>31.0</td>\n",
       "    </tr>\n",
       "    <tr>\n",
       "      <th>488933</th>\n",
       "      <td>9.0</td>\n",
       "      <td>1</td>\n",
       "      <td>6.0</td>\n",
       "      <td>6.0</td>\n",
       "      <td>6.0</td>\n",
       "      <td>54809</td>\n",
       "      <td>382272</td>\n",
       "      <td>49.0</td>\n",
       "      <td>0.0</td>\n",
       "      <td>250498</td>\n",
       "      <td>6.0</td>\n",
       "      <td>40</td>\n",
       "      <td>6.0</td>\n",
       "      <td>6.0</td>\n",
       "      <td>12</td>\n",
       "      <td>244897.959184</td>\n",
       "      <td>6</td>\n",
       "      <td>40</td>\n",
       "      <td>19261</td>\n",
       "      <td>6.0</td>\n",
       "    </tr>\n",
       "    <tr>\n",
       "      <th>488934</th>\n",
       "      <td>9.0</td>\n",
       "      <td>1</td>\n",
       "      <td>6.0</td>\n",
       "      <td>6.0</td>\n",
       "      <td>6.0</td>\n",
       "      <td>62506</td>\n",
       "      <td>381052</td>\n",
       "      <td>1.0</td>\n",
       "      <td>0.0</td>\n",
       "      <td>341671</td>\n",
       "      <td>6.0</td>\n",
       "      <td>40</td>\n",
       "      <td>6.0</td>\n",
       "      <td>6.0</td>\n",
       "      <td>12</td>\n",
       "      <td>12000000.0</td>\n",
       "      <td>6</td>\n",
       "      <td>40</td>\n",
       "      <td>60637</td>\n",
       "      <td>6.0</td>\n",
       "    </tr>\n",
       "  </tbody>\n",
       "</table>\n",
       "<p>488929 rows × 20 columns</p>\n",
       "</div>"
      ],
      "text/plain": [
       "        Average Packet Size  ACK Flag Count  Fwd Packet Length Max  \\\n",
       "0                    2208.0               0                 1472.0   \n",
       "1                    2208.0               0                 1472.0   \n",
       "2                    2208.0               0                 1472.0   \n",
       "3                    2208.0               0                 1472.0   \n",
       "4                    2208.0               0                 1472.0   \n",
       "...                     ...             ...                    ...   \n",
       "488930                  9.0               1                    6.0   \n",
       "488931                  7.5               1                    6.0   \n",
       "488932                62.75               0                   31.0   \n",
       "488933                  9.0               1                    6.0   \n",
       "488934                  9.0               1                    6.0   \n",
       "\n",
       "        Max Packet Length  Fwd Packet Length Min  Source Port   Timestamp  \\\n",
       "0                  1472.0                 1472.0          520      111250   \n",
       "1                  1472.0                 1472.0          755      122409   \n",
       "2                  1472.0                 1472.0          768      130751   \n",
       "3                  1472.0                 1472.0          700      112057   \n",
       "4                  1472.0                 1472.0          615      135028   \n",
       "...                   ...                    ...          ...         ...   \n",
       "488930                6.0                    6.0         8673      381200   \n",
       "488931                6.0                    6.0        11130      376363   \n",
       "488932               79.0                   31.0        54686      373944   \n",
       "488933                6.0                    6.0        54809      382272   \n",
       "488934                6.0                    6.0        62506      381052   \n",
       "\n",
       "        Fwd IAT Mean  Bwd IAT Mean  Flow ID  Packet Length Mean  \\\n",
       "0                1.0           0.0   223278              1472.0   \n",
       "1                1.0           0.0   409387              1472.0   \n",
       "2                1.0           0.0   412964              1472.0   \n",
       "3                2.0           0.0   394443              1472.0   \n",
       "4                1.0           0.0   316746              1472.0   \n",
       "...              ...           ...      ...                 ...   \n",
       "488930           1.0           0.0   440433                 6.0   \n",
       "488931           1.0           1.0     9570                 6.0   \n",
       "488932           3.0           3.0   483527                50.2   \n",
       "488933          49.0           0.0   250498                 6.0   \n",
       "488934           1.0           0.0   341671                 6.0   \n",
       "\n",
       "        Fwd Header Length  Min Packet Length  Avg Fwd Segment Size  \\\n",
       "0                      64             1472.0                1472.0   \n",
       "1                       0             1472.0                1472.0   \n",
       "2                       0             1472.0                1472.0   \n",
       "3                       0             1472.0                1472.0   \n",
       "4                      16             1472.0                1472.0   \n",
       "...                   ...                ...                   ...   \n",
       "488930                 40                6.0                   6.0   \n",
       "488931                 40                6.0                   6.0   \n",
       "488932                 40               31.0                  31.0   \n",
       "488933                 40                6.0                   6.0   \n",
       "488934                 40                6.0                   6.0   \n",
       "\n",
       "        Subflow Fwd Bytes   Flow Bytes/s  Protocol  Fwd Header Length.1  \\\n",
       "0                    2944   2944000000.0        17                   64   \n",
       "1                    2944   2944000000.0        17                    0   \n",
       "2                    2944   2944000000.0        17                    0   \n",
       "3                    2944   1472000000.0        17                    0   \n",
       "4                    2944   2944000000.0        17                   16   \n",
       "...                   ...            ...       ...                  ...   \n",
       "488930                 12     12000000.0         6                   40   \n",
       "488931                 12  201680.672269         6                   40   \n",
       "488932                 62   10573.364733        17                   40   \n",
       "488933                 12  244897.959184         6                   40   \n",
       "488934                 12     12000000.0         6                   40   \n",
       "\n",
       "        Destination Port  Fwd Packet Length Mean  \n",
       "0                  22993                  1472.0  \n",
       "1                   3377                  1472.0  \n",
       "2                  33027                  1472.0  \n",
       "3                  60924                  1472.0  \n",
       "4                  23073                  1472.0  \n",
       "...                  ...                     ...  \n",
       "488930             33165                     6.0  \n",
       "488931             20694                     6.0  \n",
       "488932                53                    31.0  \n",
       "488933             19261                     6.0  \n",
       "488934             60637                     6.0  \n",
       "\n",
       "[488929 rows x 20 columns]"
      ]
     },
     "execution_count": 12,
     "metadata": {},
     "output_type": "execute_result"
    }
   ],
   "source": [
    "df_top20_x = df_x[[' Average Packet Size',\n",
    "                   ' ACK Flag Count',\n",
    "                   ' Fwd Packet Length Max',\n",
    "                   ' Max Packet Length',\n",
    "                   ' Fwd Packet Length Min',\n",
    "                   ' Source Port',\n",
    "                   ' Timestamp',\n",
    "                   ' Fwd IAT Mean',\n",
    "                   ' Bwd IAT Mean',\n",
    "                   'Flow ID',\n",
    "                   ' Packet Length Mean',\n",
    "                   ' Fwd Header Length',\n",
    "                   ' Min Packet Length',\n",
    "                   ' Avg Fwd Segment Size',\n",
    "                   ' Subflow Fwd Bytes',\n",
    "                   'Flow Bytes/s',\n",
    "                   ' Protocol',\n",
    "                   ' Fwd Header Length.1',\n",
    "                   ' Destination Port',\n",
    "                   ' Fwd Packet Length Mean']]\n",
    "\n",
    "df_top20_x"
   ]
  },
  {
   "cell_type": "code",
   "execution_count": 13,
   "metadata": {},
   "outputs": [
    {
     "data": {
      "text/plain": [
       "array([1, 1, 1, ..., 0, 5, 5])"
      ]
     },
     "execution_count": 13,
     "metadata": {},
     "output_type": "execute_result"
    }
   ],
   "source": [
    "df_y_trans"
   ]
  },
  {
   "cell_type": "code",
   "execution_count": 14,
   "metadata": {},
   "outputs": [],
   "source": [
    "x_train, x_test, y_train, y_test = train_test_split(df_top20_x,\n",
    "                                                    df_y_trans,\n",
    "                                                    test_size=0.3,\n",
    "                                                    random_state=42)"
   ]
  },
  {
   "cell_type": "code",
   "execution_count": 15,
   "metadata": {},
   "outputs": [
    {
     "data": {
      "text/plain": [
       "(342250, 20)"
      ]
     },
     "execution_count": 15,
     "metadata": {},
     "output_type": "execute_result"
    }
   ],
   "source": [
    "x_train.shape"
   ]
  },
  {
   "cell_type": "code",
   "execution_count": 16,
   "metadata": {},
   "outputs": [
    {
     "data": {
      "text/plain": [
       "(342250,)"
      ]
     },
     "execution_count": 16,
     "metadata": {},
     "output_type": "execute_result"
    }
   ],
   "source": [
    "y_train.shape"
   ]
  },
  {
   "cell_type": "code",
   "execution_count": 17,
   "metadata": {},
   "outputs": [
    {
     "data": {
      "text/plain": [
       "(146679, 20)"
      ]
     },
     "execution_count": 17,
     "metadata": {},
     "output_type": "execute_result"
    }
   ],
   "source": [
    "x_test.shape"
   ]
  },
  {
   "cell_type": "code",
   "execution_count": 18,
   "metadata": {},
   "outputs": [
    {
     "data": {
      "text/plain": [
       "(146679,)"
      ]
     },
     "execution_count": 18,
     "metadata": {},
     "output_type": "execute_result"
    }
   ],
   "source": [
    "y_test.shape"
   ]
  },
  {
   "cell_type": "code",
   "execution_count": 19,
   "metadata": {},
   "outputs": [],
   "source": [
    "ss = StandardScaler()\n",
    "x_train_std = ss.fit_transform(x_train)\n",
    "x_test_std = ss.fit_transform(x_test)"
   ]
  },
  {
   "cell_type": "code",
   "execution_count": 20,
   "metadata": {},
   "outputs": [
    {
     "data": {
      "text/html": [
       "<style>#sk-container-id-2 {color: black;background-color: white;}#sk-container-id-2 pre{padding: 0;}#sk-container-id-2 div.sk-toggleable {background-color: white;}#sk-container-id-2 label.sk-toggleable__label {cursor: pointer;display: block;width: 100%;margin-bottom: 0;padding: 0.3em;box-sizing: border-box;text-align: center;}#sk-container-id-2 label.sk-toggleable__label-arrow:before {content: \"▸\";float: left;margin-right: 0.25em;color: #696969;}#sk-container-id-2 label.sk-toggleable__label-arrow:hover:before {color: black;}#sk-container-id-2 div.sk-estimator:hover label.sk-toggleable__label-arrow:before {color: black;}#sk-container-id-2 div.sk-toggleable__content {max-height: 0;max-width: 0;overflow: hidden;text-align: left;background-color: #f0f8ff;}#sk-container-id-2 div.sk-toggleable__content pre {margin: 0.2em;color: black;border-radius: 0.25em;background-color: #f0f8ff;}#sk-container-id-2 input.sk-toggleable__control:checked~div.sk-toggleable__content {max-height: 200px;max-width: 100%;overflow: auto;}#sk-container-id-2 input.sk-toggleable__control:checked~label.sk-toggleable__label-arrow:before {content: \"▾\";}#sk-container-id-2 div.sk-estimator input.sk-toggleable__control:checked~label.sk-toggleable__label {background-color: #d4ebff;}#sk-container-id-2 div.sk-label input.sk-toggleable__control:checked~label.sk-toggleable__label {background-color: #d4ebff;}#sk-container-id-2 input.sk-hidden--visually {border: 0;clip: rect(1px 1px 1px 1px);clip: rect(1px, 1px, 1px, 1px);height: 1px;margin: -1px;overflow: hidden;padding: 0;position: absolute;width: 1px;}#sk-container-id-2 div.sk-estimator {font-family: monospace;background-color: #f0f8ff;border: 1px dotted black;border-radius: 0.25em;box-sizing: border-box;margin-bottom: 0.5em;}#sk-container-id-2 div.sk-estimator:hover {background-color: #d4ebff;}#sk-container-id-2 div.sk-parallel-item::after {content: \"\";width: 100%;border-bottom: 1px solid gray;flex-grow: 1;}#sk-container-id-2 div.sk-label:hover label.sk-toggleable__label {background-color: #d4ebff;}#sk-container-id-2 div.sk-serial::before {content: \"\";position: absolute;border-left: 1px solid gray;box-sizing: border-box;top: 0;bottom: 0;left: 50%;z-index: 0;}#sk-container-id-2 div.sk-serial {display: flex;flex-direction: column;align-items: center;background-color: white;padding-right: 0.2em;padding-left: 0.2em;position: relative;}#sk-container-id-2 div.sk-item {position: relative;z-index: 1;}#sk-container-id-2 div.sk-parallel {display: flex;align-items: stretch;justify-content: center;background-color: white;position: relative;}#sk-container-id-2 div.sk-item::before, #sk-container-id-2 div.sk-parallel-item::before {content: \"\";position: absolute;border-left: 1px solid gray;box-sizing: border-box;top: 0;bottom: 0;left: 50%;z-index: -1;}#sk-container-id-2 div.sk-parallel-item {display: flex;flex-direction: column;z-index: 1;position: relative;background-color: white;}#sk-container-id-2 div.sk-parallel-item:first-child::after {align-self: flex-end;width: 50%;}#sk-container-id-2 div.sk-parallel-item:last-child::after {align-self: flex-start;width: 50%;}#sk-container-id-2 div.sk-parallel-item:only-child::after {width: 0;}#sk-container-id-2 div.sk-dashed-wrapped {border: 1px dashed gray;margin: 0 0.4em 0.5em 0.4em;box-sizing: border-box;padding-bottom: 0.4em;background-color: white;}#sk-container-id-2 div.sk-label label {font-family: monospace;font-weight: bold;display: inline-block;line-height: 1.2em;}#sk-container-id-2 div.sk-label-container {text-align: center;}#sk-container-id-2 div.sk-container {/* jupyter's `normalize.less` sets `[hidden] { display: none; }` but bootstrap.min.css set `[hidden] { display: none !important; }` so we also need the `!important` here to be able to override the default hidden behavior on the sphinx rendered scikit-learn.org. See: https://github.com/scikit-learn/scikit-learn/issues/21755 */display: inline-block !important;position: relative;}#sk-container-id-2 div.sk-text-repr-fallback {display: none;}</style><div id=\"sk-container-id-2\" class=\"sk-top-container\"><div class=\"sk-text-repr-fallback\"><pre>DecisionTreeClassifier()</pre><b>In a Jupyter environment, please rerun this cell to show the HTML representation or trust the notebook. <br />On GitHub, the HTML representation is unable to render, please try loading this page with nbviewer.org.</b></div><div class=\"sk-container\" hidden><div class=\"sk-item\"><div class=\"sk-estimator sk-toggleable\"><input class=\"sk-toggleable__control sk-hidden--visually\" id=\"sk-estimator-id-2\" type=\"checkbox\" checked><label for=\"sk-estimator-id-2\" class=\"sk-toggleable__label sk-toggleable__label-arrow\">DecisionTreeClassifier</label><div class=\"sk-toggleable__content\"><pre>DecisionTreeClassifier()</pre></div></div></div></div></div>"
      ],
      "text/plain": [
       "DecisionTreeClassifier()"
      ]
     },
     "execution_count": 20,
     "metadata": {},
     "output_type": "execute_result"
    }
   ],
   "source": [
    "dt = DecisionTreeClassifier()\n",
    "dt.fit(x_train_std, y_train)"
   ]
  },
  {
   "cell_type": "code",
   "execution_count": 21,
   "metadata": {},
   "outputs": [
    {
     "name": "stdout",
     "output_type": "stream",
     "text": [
      "Classification Report for DT: \n",
      "               precision    recall  f1-score   support\n",
      "\n",
      "      BENIGN       1.00      0.83      0.91       393\n",
      "        LDAP       0.98      0.98      0.98     14052\n",
      "       MSSQL       0.99      1.00      1.00     41787\n",
      "     NetBIOS       0.99      0.99      0.99     26541\n",
      "     Portmap       0.98      0.84      0.90      1357\n",
      "         Syn       1.00      1.00      1.00     34032\n",
      "         UDP       0.99      0.99      0.99     28504\n",
      "      UDPLag       0.05      0.77      0.10        13\n",
      "\n",
      "    accuracy                           0.99    146679\n",
      "   macro avg       0.87      0.92      0.86    146679\n",
      "weighted avg       0.99      0.99      0.99    146679\n",
      "\n"
     ]
    }
   ],
   "source": [
    "dt_y_prediction = dt.predict(x_test_std)\n",
    "print('Classification Report for DT: \\n', classification_report(le.inverse_transform(y_test), le.inverse_transform(dt_y_prediction)))"
   ]
  },
  {
   "cell_type": "code",
   "execution_count": 22,
   "metadata": {},
   "outputs": [
    {
     "name": "stdout",
     "output_type": "stream",
     "text": [
      "Decision Tree Confusion Matrix: \n",
      " [[  325     2     2     5    19    37     0     3]\n",
      " [    0 13835   217     0     0     0     0     0]\n",
      " [    0     0 41595     0     0     0   192     0]\n",
      " [    0   218     0 26323     0     0     0     0]\n",
      " [    0     0     0   221  1136     0     0     0]\n",
      " [    0     0     0     0     0 34032     0     0]\n",
      " [    0     0     1     0     0     0 28326   177]\n",
      " [    0     0     0     0     0     1     2    10]]\n"
     ]
    }
   ],
   "source": [
    "dt_confusion_matrix = confusion_matrix(y_test, dt_y_prediction)\n",
    "print('Decision Tree Confusion Matrix: \\n', dt_confusion_matrix)"
   ]
  },
  {
   "cell_type": "code",
   "execution_count": 23,
   "metadata": {},
   "outputs": [
    {
     "name": "stdout",
     "output_type": "stream",
     "text": [
      "Accuracy Score for DT: \n",
      " 99.25210834543459\n"
     ]
    }
   ],
   "source": [
    "ac_score_dt = accuracy_score(y_test, dt_y_prediction)\n",
    "print(\"Accuracy Score for DT: \\n\", ac_score_dt * 100)"
   ]
  },
  {
   "cell_type": "code",
   "execution_count": 24,
   "metadata": {},
   "outputs": [],
   "source": [
    "with open('dt_model.pkl', 'wb') as file:\n",
    "    pickle.dump(dt, file)"
   ]
  },
  {
   "cell_type": "code",
   "execution_count": 25,
   "metadata": {},
   "outputs": [
    {
     "data": {
      "text/plain": [
       "(146679,)"
      ]
     },
     "execution_count": 25,
     "metadata": {},
     "output_type": "execute_result"
    }
   ],
   "source": [
    "nb = GaussianNB()\n",
    "nb.fit(x_train_std, y_train)\n",
    "nb_y_prediction = nb.predict(x_test_std)\n",
    "nb_y_prediction.shape"
   ]
  },
  {
   "cell_type": "code",
   "execution_count": 26,
   "metadata": {},
   "outputs": [
    {
     "name": "stdout",
     "output_type": "stream",
     "text": [
      "Classification Report for NB: \n",
      "               precision    recall  f1-score   support\n",
      "\n",
      "      BENIGN       0.01      1.00      0.02       393\n",
      "        LDAP       1.00      0.00      0.00     14052\n",
      "       MSSQL       0.49      1.00      0.66     41787\n",
      "     NetBIOS       0.95      0.99      0.97     26541\n",
      "     Portmap       1.00      0.00      0.00      1357\n",
      "         Syn       1.00      0.00      0.00     34032\n",
      "         UDP       0.00      0.00      0.00     28504\n",
      "      UDPLag       1.00      0.00      0.00        13\n",
      "\n",
      "    accuracy                           0.47    146679\n",
      "   macro avg       0.68      0.37      0.21    146679\n",
      "weighted avg       0.65      0.47      0.36    146679\n",
      "\n"
     ]
    }
   ],
   "source": [
    "print('Classification Report for NB: \\n', classification_report(le.inverse_transform(y_test), le.inverse_transform(nb_y_prediction), zero_division=1))"
   ]
  },
  {
   "cell_type": "code",
   "execution_count": 27,
   "metadata": {},
   "outputs": [
    {
     "name": "stdout",
     "output_type": "stream",
     "text": [
      "Naive Bayes Confusion Matrix: \n",
      " [[  392     0     1     0     0     0     0     0]\n",
      " [    3     0 14049     0     0     0     0     0]\n",
      " [    8     0 41778     0     0     0     1     0]\n",
      " [   28     0   246 26267     0     0     0     0]\n",
      " [    4     0    17  1336     0     0     0     0]\n",
      " [34002     0    30     0     0     0     0     0]\n",
      " [   22     0 28482     0     0     0     0     0]\n",
      " [    3     0    10     0     0     0     0     0]]\n"
     ]
    }
   ],
   "source": [
    "nb_confusion_matrix = confusion_matrix(y_test, nb_y_prediction)\n",
    "print('Naive Bayes Confusion Matrix: \\n', nb_confusion_matrix)"
   ]
  },
  {
   "cell_type": "code",
   "execution_count": 28,
   "metadata": {},
   "outputs": [
    {
     "name": "stdout",
     "output_type": "stream",
     "text": [
      "Accuracy Score for NB: \n",
      " 46.65766742342121\n"
     ]
    }
   ],
   "source": [
    "ac_score_nb = accuracy_score(y_test, nb_y_prediction)\n",
    "print('Accuracy Score for NB: \\n', ac_score_nb * 100)"
   ]
  },
  {
   "cell_type": "code",
   "execution_count": 29,
   "metadata": {},
   "outputs": [],
   "source": [
    "with open('nb_model.pkl', 'wb') as file:\n",
    "    pickle.dump(nb, file)"
   ]
  },
  {
   "cell_type": "code",
   "execution_count": 30,
   "metadata": {},
   "outputs": [
    {
     "data": {
      "text/html": [
       "<style>#sk-container-id-3 {color: black;background-color: white;}#sk-container-id-3 pre{padding: 0;}#sk-container-id-3 div.sk-toggleable {background-color: white;}#sk-container-id-3 label.sk-toggleable__label {cursor: pointer;display: block;width: 100%;margin-bottom: 0;padding: 0.3em;box-sizing: border-box;text-align: center;}#sk-container-id-3 label.sk-toggleable__label-arrow:before {content: \"▸\";float: left;margin-right: 0.25em;color: #696969;}#sk-container-id-3 label.sk-toggleable__label-arrow:hover:before {color: black;}#sk-container-id-3 div.sk-estimator:hover label.sk-toggleable__label-arrow:before {color: black;}#sk-container-id-3 div.sk-toggleable__content {max-height: 0;max-width: 0;overflow: hidden;text-align: left;background-color: #f0f8ff;}#sk-container-id-3 div.sk-toggleable__content pre {margin: 0.2em;color: black;border-radius: 0.25em;background-color: #f0f8ff;}#sk-container-id-3 input.sk-toggleable__control:checked~div.sk-toggleable__content {max-height: 200px;max-width: 100%;overflow: auto;}#sk-container-id-3 input.sk-toggleable__control:checked~label.sk-toggleable__label-arrow:before {content: \"▾\";}#sk-container-id-3 div.sk-estimator input.sk-toggleable__control:checked~label.sk-toggleable__label {background-color: #d4ebff;}#sk-container-id-3 div.sk-label input.sk-toggleable__control:checked~label.sk-toggleable__label {background-color: #d4ebff;}#sk-container-id-3 input.sk-hidden--visually {border: 0;clip: rect(1px 1px 1px 1px);clip: rect(1px, 1px, 1px, 1px);height: 1px;margin: -1px;overflow: hidden;padding: 0;position: absolute;width: 1px;}#sk-container-id-3 div.sk-estimator {font-family: monospace;background-color: #f0f8ff;border: 1px dotted black;border-radius: 0.25em;box-sizing: border-box;margin-bottom: 0.5em;}#sk-container-id-3 div.sk-estimator:hover {background-color: #d4ebff;}#sk-container-id-3 div.sk-parallel-item::after {content: \"\";width: 100%;border-bottom: 1px solid gray;flex-grow: 1;}#sk-container-id-3 div.sk-label:hover label.sk-toggleable__label {background-color: #d4ebff;}#sk-container-id-3 div.sk-serial::before {content: \"\";position: absolute;border-left: 1px solid gray;box-sizing: border-box;top: 0;bottom: 0;left: 50%;z-index: 0;}#sk-container-id-3 div.sk-serial {display: flex;flex-direction: column;align-items: center;background-color: white;padding-right: 0.2em;padding-left: 0.2em;position: relative;}#sk-container-id-3 div.sk-item {position: relative;z-index: 1;}#sk-container-id-3 div.sk-parallel {display: flex;align-items: stretch;justify-content: center;background-color: white;position: relative;}#sk-container-id-3 div.sk-item::before, #sk-container-id-3 div.sk-parallel-item::before {content: \"\";position: absolute;border-left: 1px solid gray;box-sizing: border-box;top: 0;bottom: 0;left: 50%;z-index: -1;}#sk-container-id-3 div.sk-parallel-item {display: flex;flex-direction: column;z-index: 1;position: relative;background-color: white;}#sk-container-id-3 div.sk-parallel-item:first-child::after {align-self: flex-end;width: 50%;}#sk-container-id-3 div.sk-parallel-item:last-child::after {align-self: flex-start;width: 50%;}#sk-container-id-3 div.sk-parallel-item:only-child::after {width: 0;}#sk-container-id-3 div.sk-dashed-wrapped {border: 1px dashed gray;margin: 0 0.4em 0.5em 0.4em;box-sizing: border-box;padding-bottom: 0.4em;background-color: white;}#sk-container-id-3 div.sk-label label {font-family: monospace;font-weight: bold;display: inline-block;line-height: 1.2em;}#sk-container-id-3 div.sk-label-container {text-align: center;}#sk-container-id-3 div.sk-container {/* jupyter's `normalize.less` sets `[hidden] { display: none; }` but bootstrap.min.css set `[hidden] { display: none !important; }` so we also need the `!important` here to be able to override the default hidden behavior on the sphinx rendered scikit-learn.org. See: https://github.com/scikit-learn/scikit-learn/issues/21755 */display: inline-block !important;position: relative;}#sk-container-id-3 div.sk-text-repr-fallback {display: none;}</style><div id=\"sk-container-id-3\" class=\"sk-top-container\"><div class=\"sk-text-repr-fallback\"><pre>LogisticRegression(max_iter=10000)</pre><b>In a Jupyter environment, please rerun this cell to show the HTML representation or trust the notebook. <br />On GitHub, the HTML representation is unable to render, please try loading this page with nbviewer.org.</b></div><div class=\"sk-container\" hidden><div class=\"sk-item\"><div class=\"sk-estimator sk-toggleable\"><input class=\"sk-toggleable__control sk-hidden--visually\" id=\"sk-estimator-id-3\" type=\"checkbox\" checked><label for=\"sk-estimator-id-3\" class=\"sk-toggleable__label sk-toggleable__label-arrow\">LogisticRegression</label><div class=\"sk-toggleable__content\"><pre>LogisticRegression(max_iter=10000)</pre></div></div></div></div></div>"
      ],
      "text/plain": [
       "LogisticRegression(max_iter=10000)"
      ]
     },
     "execution_count": 30,
     "metadata": {},
     "output_type": "execute_result"
    }
   ],
   "source": [
    "lr = LogisticRegression(max_iter=10000)\n",
    "lr.fit(x_train_std, y_train)"
   ]
  },
  {
   "cell_type": "code",
   "execution_count": 31,
   "metadata": {},
   "outputs": [
    {
     "name": "stdout",
     "output_type": "stream",
     "text": [
      "Classification Report for LR: \n",
      "               precision    recall  f1-score   support\n",
      "\n",
      "      BENIGN       0.94      0.93      0.93       393\n",
      "        LDAP       1.00      1.00      1.00     14052\n",
      "       MSSQL       1.00      1.00      1.00     41787\n",
      "     NetBIOS       0.98      1.00      0.99     26541\n",
      "     Portmap       0.98      0.63      0.77      1357\n",
      "         Syn       1.00      1.00      1.00     34032\n",
      "         UDP       1.00      1.00      1.00     28504\n",
      "      UDPLag       1.00      0.00      0.00        13\n",
      "\n",
      "    accuracy                           0.99    146679\n",
      "   macro avg       0.99      0.82      0.84    146679\n",
      "weighted avg       0.99      0.99      0.99    146679\n",
      "\n"
     ]
    }
   ],
   "source": [
    "lr_y_prediction = lr.predict(x_test_std)\n",
    "print('Classification Report for LR: \\n', classification_report(le.inverse_transform(y_test), le.inverse_transform(lr_y_prediction), zero_division=1))"
   ]
  },
  {
   "cell_type": "code",
   "execution_count": 32,
   "metadata": {},
   "outputs": [
    {
     "name": "stdout",
     "output_type": "stream",
     "text": [
      "Accuracy Score for LR: \n",
      " 99.4157309498974\n"
     ]
    }
   ],
   "source": [
    "ac_score_lr = accuracy_score(y_test, lr_y_prediction)\n",
    "print('Accuracy Score for LR: \\n', ac_score_lr * 100)"
   ]
  },
  {
   "cell_type": "code",
   "execution_count": 33,
   "metadata": {},
   "outputs": [],
   "source": [
    "with open('lr_model.pkl', 'wb') as file:\n",
    "    pickle.dump(lr, file)"
   ]
  }
 ],
 "metadata": {
  "kernelspec": {
   "display_name": "Python 3.9.12 ('tf')",
   "language": "python",
   "name": "python3"
  },
  "language_info": {
   "codemirror_mode": {
    "name": "ipython",
    "version": 3
   },
   "file_extension": ".py",
   "mimetype": "text/x-python",
   "name": "python",
   "nbconvert_exporter": "python",
   "pygments_lexer": "ipython3",
   "version": "3.9.12"
  },
  "orig_nbformat": 4,
  "vscode": {
   "interpreter": {
    "hash": "715aac7856385776a4edc4e4dc88bc799ce189ba3282559b5cb356d95f8e427b"
   }
  }
 },
 "nbformat": 4,
 "nbformat_minor": 2
}
